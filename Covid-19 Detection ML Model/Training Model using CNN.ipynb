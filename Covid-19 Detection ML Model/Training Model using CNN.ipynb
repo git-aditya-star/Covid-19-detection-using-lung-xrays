{
 "cells": [
  {
   "cell_type": "code",
   "execution_count": 5,
   "metadata": {},
   "outputs": [],
   "source": [
    "import numpy as np\n",
    "\n",
    "data=np.load('data.npy')\n",
    "target=np.load('target.npy')"
   ]
  },
  {
   "cell_type": "code",
   "execution_count": 6,
   "metadata": {},
   "outputs": [
    {
     "name": "stderr",
     "output_type": "stream",
     "text": [
      "C:\\Users\\Dell\\anaconda3\\lib\\site-packages\\ipykernel_launcher.py:17: UserWarning: Update your `Conv2D` call to the Keras 2 API: `Conv2D(128, 3, activation=\"relu\", input_shape=(100, 100,..., strides=1, padding=\"same\")`\n",
      "C:\\Users\\Dell\\anaconda3\\lib\\site-packages\\ipykernel_launcher.py:17: UserWarning: Update your `Conv2D` call to the Keras 2 API: `Conv2D(128, 5, activation=\"relu\", input_shape=(100, 100,..., strides=1, padding=\"same\")`\n",
      "C:\\Users\\Dell\\anaconda3\\lib\\site-packages\\ipykernel_launcher.py:17: UserWarning: Update your `Conv2D` call to the Keras 2 API: `Conv2D(128, 7, activation=\"relu\", input_shape=(100, 100,..., strides=1, padding=\"same\")`\n",
      "C:\\Users\\Dell\\anaconda3\\lib\\site-packages\\ipykernel_launcher.py:21: UserWarning: Update your `Model` call to the Keras 2 API: `Model(inputs=Tensor(\"in..., outputs=Tensor(\"co...)`\n"
     ]
    },
    {
     "name": "stdout",
     "output_type": "stream",
     "text": [
      "Model: \"sequential_2\"\n",
      "_________________________________________________________________\n",
      "Layer (type)                 Output Shape              Param #   \n",
      "=================================================================\n",
      "model_2 (Model)              (None, 100, 100, 384)     11008     \n",
      "_________________________________________________________________\n",
      "conv2d_9 (Conv2D)            (None, 98, 98, 64)        221248    \n",
      "_________________________________________________________________\n",
      "activation_3 (Activation)    (None, 98, 98, 64)        0         \n",
      "_________________________________________________________________\n",
      "max_pooling2d_3 (MaxPooling2 (None, 49, 49, 64)        0         \n",
      "_________________________________________________________________\n",
      "conv2d_10 (Conv2D)           (None, 47, 47, 32)        18464     \n",
      "_________________________________________________________________\n",
      "activation_4 (Activation)    (None, 47, 47, 32)        0         \n",
      "_________________________________________________________________\n",
      "max_pooling2d_4 (MaxPooling2 (None, 23, 23, 32)        0         \n",
      "_________________________________________________________________\n",
      "flatten_2 (Flatten)          (None, 16928)             0         \n",
      "_________________________________________________________________\n",
      "dropout_4 (Dropout)          (None, 16928)             0         \n",
      "_________________________________________________________________\n",
      "dense_4 (Dense)              (None, 128)               2166912   \n",
      "_________________________________________________________________\n",
      "dropout_5 (Dropout)          (None, 128)               0         \n",
      "_________________________________________________________________\n",
      "dense_5 (Dense)              (None, 64)                8256      \n",
      "_________________________________________________________________\n",
      "dropout_6 (Dropout)          (None, 64)                0         \n",
      "_________________________________________________________________\n",
      "dense_6 (Dense)              (None, 2)                 130       \n",
      "=================================================================\n",
      "Total params: 2,426,018\n",
      "Trainable params: 2,426,018\n",
      "Non-trainable params: 0\n",
      "_________________________________________________________________\n"
     ]
    }
   ],
   "source": [
    "from keras.models import Sequential,Model\n",
    "from keras.layers import Dense, Dropout, Flatten\n",
    "from keras.layers import Conv2D,Activation,MaxPooling2D\n",
    "from keras.utils import normalize\n",
    "from keras.layers import Concatenate\n",
    "from keras import Input\n",
    "from keras.callbacks import ModelCheckpoint\n",
    "\n",
    "input_shape=data.shape[1:] #50,50,1\n",
    "inp=Input(shape=input_shape)\n",
    "convs=[]\n",
    "\n",
    "parrallel_kernels=[3,5,7]\n",
    "\n",
    "for k in range(len(parrallel_kernels)):\n",
    "\n",
    "    conv = Conv2D(128, parrallel_kernels[k],border_mode='same',activation='relu',input_shape=input_shape,strides=1)(inp)\n",
    "    convs.append(conv)\n",
    "\n",
    "out = Concatenate()(convs)\n",
    "conv_model = Model(input=inp, output=out)\n",
    "\n",
    "model = Sequential()\n",
    "model.add(conv_model)\n",
    "\n",
    "model.add(Conv2D(64,(3,3)))\n",
    "model.add(Activation('relu'))\n",
    "model.add(MaxPooling2D(pool_size=(2,2)))\n",
    "\n",
    "model.add(Conv2D(32,(3,3)))\n",
    "model.add(Activation('relu'))\n",
    "model.add(MaxPooling2D(pool_size=(2,2)))\n",
    "\n",
    "model.add(Flatten())\n",
    "model.add(Dropout(0.5))\n",
    "model.add(Dense(128,activation='relu'))\n",
    "model.add(Dropout(0.5))\n",
    "model.add(Dense(64,activation='relu'))\n",
    "model.add(Dropout(0.5))\n",
    "model.add(Dense(2,input_dim=128,activation='softmax'))\n",
    "model.compile(loss='categorical_crossentropy',optimizer='adam',metrics=['accuracy'])\n",
    "\n",
    "model.summary()"
   ]
  },
  {
   "cell_type": "code",
   "execution_count": 7,
   "metadata": {},
   "outputs": [],
   "source": [
    "from sklearn.model_selection import train_test_split\n",
    "\n",
    "train_data,test_data,train_target,test_target=train_test_split(data,target,test_size=0.1)"
   ]
  },
  {
   "cell_type": "code",
   "execution_count": 8,
   "metadata": {},
   "outputs": [
    {
     "name": "stdout",
     "output_type": "stream",
     "text": [
      "WARNING:tensorflow:From C:\\Users\\Dell\\anaconda3\\lib\\site-packages\\keras\\backend\\tensorflow_backend.py:422: The name tf.global_variables is deprecated. Please use tf.compat.v1.global_variables instead.\n",
      "\n",
      "Train on 1745 samples, validate on 194 samples\n",
      "Epoch 1/20\n",
      "1745/1745 [==============================] - 309s 177ms/step - loss: 0.4540 - accuracy: 0.7857 - val_loss: 0.1355 - val_accuracy: 0.9639\n",
      "Epoch 2/20\n",
      "1745/1745 [==============================] - 307s 176ms/step - loss: 0.1700 - accuracy: 0.9398 - val_loss: 0.0364 - val_accuracy: 0.9845\n",
      "Epoch 3/20\n",
      "1745/1745 [==============================] - 306s 175ms/step - loss: 0.1311 - accuracy: 0.9559 - val_loss: 0.0611 - val_accuracy: 0.9794\n",
      "Epoch 4/20\n",
      "1745/1745 [==============================] - 329s 189ms/step - loss: 0.0937 - accuracy: 0.9639 - val_loss: 0.0455 - val_accuracy: 0.9897\n",
      "Epoch 5/20\n",
      "1745/1745 [==============================] - 324s 186ms/step - loss: 0.1007 - accuracy: 0.9610 - val_loss: 0.0311 - val_accuracy: 0.9897\n",
      "Epoch 6/20\n",
      "1745/1745 [==============================] - 313s 179ms/step - loss: 0.0740 - accuracy: 0.9771 - val_loss: 0.0490 - val_accuracy: 0.9845\n",
      "Epoch 7/20\n",
      "1745/1745 [==============================] - 310s 177ms/step - loss: 0.0630 - accuracy: 0.9748 - val_loss: 0.0052 - val_accuracy: 1.0000\n",
      "Epoch 8/20\n",
      "1745/1745 [==============================] - 312s 179ms/step - loss: 0.0659 - accuracy: 0.9811 - val_loss: 0.0351 - val_accuracy: 0.9897\n",
      "Epoch 9/20\n",
      "1745/1745 [==============================] - 316s 181ms/step - loss: 0.0442 - accuracy: 0.9851 - val_loss: 0.0095 - val_accuracy: 0.9948\n",
      "Epoch 10/20\n",
      "1745/1745 [==============================] - 324s 186ms/step - loss: 0.0500 - accuracy: 0.9834 - val_loss: 0.0129 - val_accuracy: 0.9948\n",
      "Epoch 11/20\n",
      "1745/1745 [==============================] - 299s 171ms/step - loss: 0.0439 - accuracy: 0.9862 - val_loss: 0.0261 - val_accuracy: 0.9948\n",
      "Epoch 12/20\n",
      "1745/1745 [==============================] - 315s 180ms/step - loss: 0.0453 - accuracy: 0.9891 - val_loss: 0.0118 - val_accuracy: 1.0000\n",
      "Epoch 13/20\n",
      "1745/1745 [==============================] - 322s 184ms/step - loss: 0.0394 - accuracy: 0.9845 - val_loss: 0.0239 - val_accuracy: 0.9845\n",
      "Epoch 14/20\n",
      "1745/1745 [==============================] - 336s 192ms/step - loss: 0.0233 - accuracy: 0.9937 - val_loss: 0.0043 - val_accuracy: 1.0000\n",
      "Epoch 15/20\n",
      "1745/1745 [==============================] - 312s 179ms/step - loss: 0.0240 - accuracy: 0.9920 - val_loss: 0.0109 - val_accuracy: 0.9948\n",
      "Epoch 16/20\n",
      "1745/1745 [==============================] - 311s 178ms/step - loss: 0.0312 - accuracy: 0.9926 - val_loss: 0.0354 - val_accuracy: 0.9897\n",
      "Epoch 17/20\n",
      "1745/1745 [==============================] - 298s 171ms/step - loss: 0.0379 - accuracy: 0.9862 - val_loss: 0.0096 - val_accuracy: 0.9948\n",
      "Epoch 18/20\n",
      "1745/1745 [==============================] - 314s 180ms/step - loss: 0.0299 - accuracy: 0.9920 - val_loss: 0.0396 - val_accuracy: 0.9948\n",
      "Epoch 19/20\n",
      "1745/1745 [==============================] - 303s 173ms/step - loss: 0.0220 - accuracy: 0.9903 - val_loss: 0.0457 - val_accuracy: 0.9897\n",
      "Epoch 20/20\n",
      "1745/1745 [==============================] - 315s 181ms/step - loss: 0.0177 - accuracy: 0.9943 - val_loss: 0.0088 - val_accuracy: 0.9948\n"
     ]
    }
   ],
   "source": [
    "checkpoint = ModelCheckpoint('model-{epoch:03d}.model',monitor='val_loss',verbose=0,save_best_only=True,mode='auto')\n",
    "history=model.fit(train_data,train_target,epochs=20,callbacks=[checkpoint],validation_split=0.1)"
   ]
  },
  {
   "cell_type": "code",
   "execution_count": 9,
   "metadata": {},
   "outputs": [
    {
     "data": {
      "image/png": "[encoded data removed]",
      "text/plain": [
       "<Figure size 432x288 with 1 Axes>"
      ]
     },
     "metadata": {
      "needs_background": "light"
     },
     "output_type": "display_data"
    }
   ],
   "source": [
    "from matplotlib import pyplot as plt\n",
    "\n",
    "plt.plot(history.history['loss'],'r',label='training loss')\n",
    "plt.plot(history.history['val_loss'],label='validation loss')\n",
    "plt.xlabel('# epochs')\n",
    "plt.ylabel('loss')\n",
    "plt.legend()\n",
    "plt.show()"
   ]
  },
  {
   "cell_type": "code",
   "execution_count": 10,
   "metadata": {},
   "outputs": [
    {
     "data": {
      "image/png": "[encoded data removed]",
      "text/plain": [
       "<Figure size 432x288 with 1 Axes>"
      ]
     },
     "metadata": {
      "needs_background": "light"
     },
     "output_type": "display_data"
    }
   ],
   "source": [
    "plt.plot(history.history['accuracy'],'r',label='training accuracy')\n",
    "plt.plot(history.history['val_accuracy'],label='validation accuracy')\n",
    "plt.xlabel('# epochs')\n",
    "plt.ylabel('loss')\n",
    "plt.legend()\n",
    "plt.show()"
   ]
  },
  {
   "cell_type": "code",
   "execution_count": 11,
   "metadata": {},
   "outputs": [
    {
     "name": "stdout",
     "output_type": "stream",
     "text": [
      "216/216 [==============================] - 7s 34ms/step\n",
      "[0.008908812131267041, 0.9953703880310059]\n"
     ]
    }
   ],
   "source": [
    "print(model.evaluate(test_data,test_target))"
   ]
  },
  {
   "cell_type": "code",
   "execution_count": null,
   "metadata": {},
   "outputs": [],
   "source": []
  }
 ],
 "metadata": {
  "kernelspec": {
   "display_name": "Python 3",
   "language": "python",
   "name": "python3"
  },
  "language_info": {
   "codemirror_mode": {
    "name": "ipython",
    "version": 3
   },
   "file_extension": ".py",
   "mimetype": "text/x-python",
   "name": "python",
   "nbconvert_exporter": "python",
   "pygments_lexer": "ipython3",
   "version": "3.7.6"
  }
 },
 "nbformat": 4,
 "nbformat_minor": 4
}
